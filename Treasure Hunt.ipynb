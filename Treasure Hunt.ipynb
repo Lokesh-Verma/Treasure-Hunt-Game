{
 "cells": [
  {
   "cell_type": "code",
   "execution_count": 1,
   "metadata": {},
   "outputs": [
    {
     "name": "stdout",
     "output_type": "stream",
     "text": [
      " Welcome to the Treasure hunt!!! Treausre is awaiting for you to be find out before it is found by pirates\n",
      " Beware as you may fall into the traps, dangers and fire. One mistake your game is over.\n",
      " Best of luck\n",
      "Choose the direction to start.left\n",
      "Congratulations for your first right step. You want to wait for boat or swim across the sea to reach the islandboat\n",
      "last milestone! choose the color of the door among yellow, blue and redyellow\n",
      "You Won The Game!!! Congratulations. Treasure is yours\n",
      "\n",
      "\n",
      "*******************************************************************************\n",
      "          |                   |                  |                     |\n",
      " _________|________________.=\"\"_;=.______________|_____________________|_______\n",
      "|                   |  ,-\"_,=\"\"     `\"=.|                  |\n",
      "|___________________|__\"=._o`\"-._        `\"=.______________|___________________\n",
      "          |                `\"=._o`\"=._      _`\"=._                     |\n",
      " _________|_____________________:=._o \"=._.\"_.-=\"'\"=.__________________|_______\n",
      "|                   |    __.--\" , ; `\"=._o.\" ,-\"\"\"-._ \".   |\n",
      "|___________________|_._\"  ,. .` ` `` ,  `\"-._\"-._   \". '__|___________________\n",
      "          |           |o`\"=._` , \"` `; .\". ,  \"-._\"-._; ;              |\n",
      " _________|___________| ;`-.o`\"=._; .\" ` '`.\"\\` . \"-._ /_______________|_______\n",
      "|                   | |o;    `\"-.o`\"=._``  '` \" ,__.--o;   |\n",
      "|___________________|_| ;     (#) `-.o `\"=.`_.--\"_o.-; ;___|___________________\n",
      "____/______/______/___|o;._    \"      `\".o|o_.--\"    ;o;____/______/______/____\n",
      "/______/______/______/_\"=._o--._        ; | ;        ; ;/______/______/______/_\n",
      "____/______/______/______/__\"=._o--._   ;o|o;     _._;o;____/______/______/____\n",
      "/______/______/______/______/____\"=._o._; | ;_.--\"o.--\"_/______/______/______/_\n",
      "____/______/______/______/______/_____\"=.o|o_.--\"\"___/______/______/______/____\n",
      "/______/______/______/______/______/______/______/______/______/______/________\n",
      "*******************************************************************************\n",
      "\n"
     ]
    }
   ],
   "source": [
    "print(\" Welcome to the Treasure hunt!!! Treausre is awaiting for you to be find out before it is found by pirates\")\n",
    "print(\" Beware as you may fall into the traps, dangers and fire. One mistake your game is over.\")\n",
    "print(\" Best of luck\")\n",
    "direction=input(\"Choose the direction to start.\")\n",
    "if direction.lower()==\"left\":\n",
    "    move=input(\"Congratulations for your first right step. You want to wait for boat or swim across the sea to reach the island\")\n",
    "    if move.lower()==\"boat\":\n",
    "        door=input(\"last milestone! choose the color of the door among yellow, blue and red\")\n",
    "        if door.lower()==\"yellow\":\n",
    "            print(\"You Won The Game!!! Congratulations. Treasure is yours\\n\")\n",
    "            print('''\n",
    "*******************************************************************************\n",
    "          |                   |                  |                     |\n",
    " _________|________________.=\"\"_;=.______________|_____________________|_______\n",
    "|                   |  ,-\"_,=\"\"     `\"=.|                  |\n",
    "|___________________|__\"=._o`\"-._        `\"=.______________|___________________\n",
    "          |                `\"=._o`\"=._      _`\"=._                     |\n",
    " _________|_____________________:=._o \"=._.\"_.-=\"'\"=.__________________|_______\n",
    "|                   |    __.--\" , ; `\"=._o.\" ,-\"\"\"-._ \".   |\n",
    "|___________________|_._\"  ,. .` ` `` ,  `\"-._\"-._   \". '__|___________________\n",
    "          |           |o`\"=._` , \"` `; .\". ,  \"-._\"-._; ;              |\n",
    " _________|___________| ;`-.o`\"=._; .\" ` '`.\"\\` . \"-._ /_______________|_______\n",
    "|                   | |o;    `\"-.o`\"=._``  '` \" ,__.--o;   |\n",
    "|___________________|_| ;     (#) `-.o `\"=.`_.--\"_o.-; ;___|___________________\n",
    "____/______/______/___|o;._    \"      `\".o|o_.--\"    ;o;____/______/______/____\n",
    "/______/______/______/_\"=._o--._        ; | ;        ; ;/______/______/______/_\n",
    "____/______/______/______/__\"=._o--._   ;o|o;     _._;o;____/______/______/____\n",
    "/______/______/______/______/____\"=._o._; | ;_.--\"o.--\"_/______/______/______/_\n",
    "____/______/______/______/______/_____\"=.o|o_.--\"\"___/______/______/______/____\n",
    "/______/______/______/______/______/______/______/______/______/______/________\n",
    "*******************************************************************************\n",
    "''')\n",
    "        elif door.lower()==\"red\":\n",
    "            print(\"Oop!! Fire in the room. Game Over\")\n",
    "        else:\n",
    "            print(\"There are beasts in the room. Game over!!\")\n",
    "    else:\n",
    "        print(\"Its always safe to take boat in the sea.Alligators in the sea. Game Over\")\n",
    "else:\n",
    "    print(\"Better Luck Next Time.Game Over\")\n",
    "\n",
    "\n"
   ]
  }
 ],
 "metadata": {
  "kernelspec": {
   "display_name": "Python 3",
   "language": "python",
   "name": "python3"
  },
  "language_info": {
   "codemirror_mode": {
    "name": "ipython",
    "version": 3
   },
   "file_extension": ".py",
   "mimetype": "text/x-python",
   "name": "python",
   "nbconvert_exporter": "python",
   "pygments_lexer": "ipython3",
   "version": "3.8.5"
  }
 },
 "nbformat": 4,
 "nbformat_minor": 4
}
